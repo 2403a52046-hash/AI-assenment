{
  "nbformat": 4,
  "nbformat_minor": 0,
  "metadata": {
    "colab": {
      "provenance": [],
      "authorship_tag": "ABX9TyPQ/AZPujGz7Jo7bKOSgpnZ",
      "include_colab_link": true
    },
    "kernelspec": {
      "name": "python3",
      "display_name": "Python 3"
    },
    "language_info": {
      "name": "python"
    }
  },
  "cells": [
    {
      "cell_type": "markdown",
      "metadata": {
        "id": "view-in-github",
        "colab_type": "text"
      },
      "source": [
        "<a href=\"https://colab.research.google.com/github/2403a52046-hash/AI-assenment/blob/main/assignment%204.3.ipynb\" target=\"_parent\"><img src=\"https://colab.research.google.com/assets/colab-badge.svg\" alt=\"Open In Colab\"/></a>"
      ]
    },
    {
      "cell_type": "code",
      "execution_count": null,
      "metadata": {
        "id": "L9I8GrZVy6jL"
      },
      "outputs": [],
      "source": [
        "Task Description#1\n",
        "● Zero-shot: Prompt AI to write a function that checks whether a given year is a leap"
      ]
    },
    {
      "cell_type": "code",
      "metadata": {
        "colab": {
          "base_uri": "https://localhost:8080/"
        },
        "id": "3bb69b55",
        "outputId": "d7219106-02b8-4973-9388-139d9877565f"
      },
      "source": [
        "def is_leap(year):\n",
        "  \"\"\"\n",
        "  Checks if a given year is a leap year.\n",
        "\n",
        "  Args:\n",
        "    year: The year to check.\n",
        "\n",
        "  Returns:\n",
        "    True if the year is a leap year, False otherwise.\n",
        "  \"\"\"\n",
        "  return (year % 4 == 0 and year % 100 != 0) or (year % 400 == 0)\n",
        "\n",
        "# Example usage:\n",
        "print(is_leap(2000))\n",
        "print(is_leap(1900))\n",
        "print(is_leap(2024))"
      ],
      "execution_count": 1,
      "outputs": [
        {
          "output_type": "stream",
          "name": "stdout",
          "text": [
            "True\n",
            "False\n",
            "True\n"
          ]
        }
      ]
    },
    {
      "cell_type": "code",
      "source": [
        "Task Description#2\n",
        "● One-shot: Give one input-output example to guide AI in writing a function that\n",
        "converts centimeters to inches"
      ],
      "metadata": {
        "id": "321V9-mJznkj"
      },
      "execution_count": null,
      "outputs": []
    },
    {
      "cell_type": "code",
      "metadata": {
        "colab": {
          "base_uri": "https://localhost:8080/"
        },
        "id": "f223608e",
        "outputId": "bbf87967-f5e5-4eea-ea46-09db41a5c0e4"
      },
      "source": [
        "def cm_to_inches(cm):\n",
        "  \"\"\"Converts centimeters to inches.\"\"\"\n",
        "  # Example: 10 cm is equal to 3.937 inches\n",
        "  return cm * 0.393701\n",
        "\n",
        "# Example usage:\n",
        "print(cm_to_inches(10))"
      ],
      "execution_count": 2,
      "outputs": [
        {
          "output_type": "stream",
          "name": "stdout",
          "text": [
            "3.9370100000000003\n"
          ]
        }
      ]
    },
    {
      "cell_type": "code",
      "source": [
        "Task Description#3\n",
        "● Few-shot: Provide 2–3 examples to generate a function that formats full names as\n",
        "“Last, First”"
      ],
      "metadata": {
        "id": "bh0oVvWmz1zv"
      },
      "execution_count": null,
      "outputs": []
    },
    {
      "cell_type": "code",
      "metadata": {
        "colab": {
          "base_uri": "https://localhost:8080/"
        },
        "id": "d8ee7968",
        "outputId": "34a0b98c-f4c2-486d-833b-dfd95f9c4e59"
      },
      "source": [
        "def format_name(full_name):\n",
        "  \"\"\"Formats a full name as 'Last, First'.\"\"\"\n",
        "  # Examples:\n",
        "  # \"John Doe\" -> \"Doe, John\"\n",
        "  # \"Jane Smith\" -> \"Smith, Jane\"\n",
        "  # \"Peter Jones\" -> \"Jones, Peter\"\n",
        "  names = full_name.split()\n",
        "  if len(names) > 1:\n",
        "    return names[-1] + \", \" + \" \".join(names[:-1])\n",
        "  else:\n",
        "    return full_name\n",
        "\n",
        "# Example usage:\n",
        "print(format_name(\"John Doe\"))\n",
        "print(format_name(\"Jane Smith\"))\n",
        "print(format_name(\"Peter Jones\"))\n",
        "print(format_name(\"Cher\"))"
      ],
      "execution_count": 3,
      "outputs": [
        {
          "output_type": "stream",
          "name": "stdout",
          "text": [
            "Doe, John\n",
            "Smith, Jane\n",
            "Jones, Peter\n",
            "Cher\n"
          ]
        }
      ]
    },
    {
      "cell_type": "code",
      "source": [
        "Task Description#4\n",
        "● Compare zero-shot and few-shot prompts for writing a function that counts the\n",
        "number of vowels in a string."
      ],
      "metadata": {
        "id": "zndooKpF0Dsg"
      },
      "execution_count": null,
      "outputs": []
    },
    {
      "cell_type": "code",
      "metadata": {
        "colab": {
          "base_uri": "https://localhost:8080/"
        },
        "id": "8f67200f",
        "outputId": "b3769c84-0658-4c59-b227-0dfd4c662443"
      },
      "source": [
        "# Few-shot approach\n",
        "def count_vowels_few_shot(text):\n",
        "  \"\"\"\n",
        "  Counts the number of vowels in a string.\n",
        "\n",
        "  Examples:\n",
        "  \"hello\" -> 2 (e, o)\n",
        "  \"programming\" -> 3 (o, a, i)\n",
        "  \"AEIOU\" -> 5 (A, E, I, O, U)\n",
        "  \"\"\"\n",
        "  vowels = \"aeiouAEIOU\"\n",
        "  count = 0\n",
        "  for char in text:\n",
        "    if char in vowels:\n",
        "      count += 1\n",
        "  return count\n",
        "\n",
        "# Example usage:\n",
        "print(count_vowels_few_shot(\"hello\"))\n",
        "print(count_vowels_few_shot(\"programming\"))\n",
        "print(count_vowels_few_shot(\"AEIOU\"))"
      ],
      "execution_count": 5,
      "outputs": [
        {
          "output_type": "stream",
          "name": "stdout",
          "text": [
            "2\n",
            "3\n",
            "5\n"
          ]
        }
      ]
    },
    {
      "cell_type": "code",
      "source": [
        "Task Description#5\n",
        "● Use few-shot prompting to generate a function that reads a .txt file and returns the\n",
        "number of lines."
      ],
      "metadata": {
        "id": "fQO1lHeJ0bHb"
      },
      "execution_count": null,
      "outputs": []
    },
    {
      "cell_type": "code",
      "metadata": {
        "colab": {
          "base_uri": "https://localhost:8080/"
        },
        "id": "f2ae1694",
        "outputId": "f7987569-f256-42fe-f47a-a5b6f3501bf6"
      },
      "source": [
        "import os\n",
        "\n",
        "def count_lines_in_file(filename):\n",
        "  \"\"\"\n",
        "  Reads a .txt file and returns the number of lines.\n",
        "\n",
        "  Examples:\n",
        "  # Assuming 'example.txt' exists with content:\n",
        "  # Line 1\n",
        "  # Line 2\n",
        "  # Line 3\n",
        "  # count_lines_in_file('example.txt') -> 3\n",
        "  \"\"\"\n",
        "  if not os.path.exists(filename):\n",
        "    print(f\"Error: File '{filename}' not found.\")\n",
        "    return -1\n",
        "\n",
        "  try:\n",
        "    with open(filename, 'r') as f:\n",
        "      line_count = sum(1 for line in f)\n",
        "    return line_count\n",
        "  except Exception as e:\n",
        "    print(f\"An error occurred: {e}\")\n",
        "    return -1\n",
        "\n",
        "# Example usage:\n",
        "# Create a dummy file for demonstration\n",
        "with open('example.txt', 'w') as f:\n",
        "  f.write(\"This is line 1\\n\")\n",
        "  f.write(\"This is line 2\\n\")\n",
        "  f.write(\"This is line 3\\n\")\n",
        "\n",
        "print(f\"Number of lines in example.txt: {count_lines_in_file('example.txt')}\")\n",
        "\n",
        "# Clean up the dummy file\n",
        "os.remove('example.txt')"
      ],
      "execution_count": 6,
      "outputs": [
        {
          "output_type": "stream",
          "name": "stdout",
          "text": [
            "Number of lines in example.txt: 3\n"
          ]
        }
      ]
    }
  ]
}