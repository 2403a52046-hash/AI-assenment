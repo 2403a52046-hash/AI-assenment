{
  "nbformat": 4,
  "nbformat_minor": 0,
  "metadata": {
    "colab": {
      "provenance": [],
      "authorship_tag": "ABX9TyN6y6vfV8Wtadpfb1pOiElt",
      "include_colab_link": true
    },
    "kernelspec": {
      "name": "python3",
      "display_name": "Python 3"
    },
    "language_info": {
      "name": "python"
    }
  },
  "cells": [
    {
      "cell_type": "markdown",
      "metadata": {
        "id": "view-in-github",
        "colab_type": "text"
      },
      "source": [
        "<a href=\"https://colab.research.google.com/github/2403a52046-hash/AI-assenment/blob/main/assignment%205.1.ipynb\" target=\"_parent\"><img src=\"https://colab.research.google.com/assets/colab-badge.svg\" alt=\"Open In Colab\"/></a>"
      ]
    },
    {
      "cell_type": "code",
      "execution_count": null,
      "metadata": {
        "id": "DOF2a0L-1bGY"
      },
      "outputs": [],
      "source": [
        "Task Description #1 (Privacy in API Usage)\n",
        "Task: Use an AI tool to generate a Python program that connects to a\n",
        "weather API"
      ]
    },
    {
      "cell_type": "markdown",
      "metadata": {
        "id": "4125622b"
      },
      "source": [
        "**Note:** You'll need an API key from OpenWeatherMap to run this code. Replace `\"YOUR_API_KEY\"` with your actual API key."
      ]
    },
    {
      "cell_type": "code",
      "metadata": {
        "id": "65cd3a01"
      },
      "source": [
        "import requests\n",
        "\n",
        "def get_weather(city, api_key):\n",
        "    \"\"\"\n",
        "    Fetches weather data for a given city using the OpenWeatherMap API.\n",
        "\n",
        "    Args:\n",
        "        city (str): The name of the city.\n",
        "        api_key (str): Your OpenWeatherMap API key.\n",
        "\n",
        "    Returns:\n",
        "        dict: A dictionary containing weather data, or None if an error occurs.\n",
        "    \"\"\"\n",
        "    base_url = \"http://api.openweathermap.org/data/2.5/weather?\"\n",
        "    complete_url = base_url + \"appid=\" + api_key + \"&q=\" + city + \"&units=metric\"\n",
        "    response = requests.get(complete_url)\n",
        "    data = response.json()\n",
        "\n",
        "    if data[\"cod\"] != \"404\":\n",
        "        main_data = data[\"main\"]\n",
        "        weather_description = data[\"weather\"][0][\"description\"]\n",
        "        temperature = main_data[\"temp\"]\n",
        "        humidity = main_data[\"humidity\"]\n",
        "        return {\n",
        "            \"temperature\": temperature,\n",
        "            \"humidity\": humidity,\n",
        "            \"description\": weather_description\n",
        "        }\n",
        "    else:\n",
        "        return None\n",
        "\n",
        "# Example usage:\n",
        "# api_key = \"YOUR_API_KEY\"  # Replace with your actual API key\n",
        "# city_name = \"London\"\n",
        "# weather_data = get_weather(city_name, api_key)\n",
        "\n",
        "# if weather_data:\n",
        "#     print(f\"Weather in {city_name}:\")\n",
        "#     print(f\"Temperature: {weather_data['temperature']}°C\")\n",
        "#     print(f\"Humidity: {weather_data['humidity']}%\")\n",
        "#     print(f\"Description: {weather_data['description']}\")\n",
        "# else:\n",
        "#     print(f\"City '{city_name}' not found.\")"
      ],
      "execution_count": 1,
      "outputs": []
    },
    {
      "cell_type": "code",
      "source": [
        "Task Description #2 (Privacy & Security in File Handling)\n",
        "Task: Use an AI tool to generate a Python script that stores user data\n",
        "(name, email, password) in a file"
      ],
      "metadata": {
        "id": "8hn2m9lu1kSK"
      },
      "execution_count": null,
      "outputs": []
    },
    {
      "cell_type": "code",
      "metadata": {
        "colab": {
          "base_uri": "https://localhost:8080/"
        },
        "id": "bbb0a3d5",
        "outputId": "0af08760-4d81-42dc-b1dd-b7e7a279d43e"
      },
      "source": [
        "!pip install bcrypt"
      ],
      "execution_count": 2,
      "outputs": [
        {
          "output_type": "stream",
          "name": "stdout",
          "text": [
            "Collecting bcrypt\n",
            "  Downloading bcrypt-4.3.0-cp39-abi3-manylinux_2_34_x86_64.whl.metadata (10 kB)\n",
            "Downloading bcrypt-4.3.0-cp39-abi3-manylinux_2_34_x86_64.whl (284 kB)\n",
            "\u001b[2K   \u001b[90m━━━━━━━━━━━━━━━━━━━━━━━━━━━━━━━━━━━━━━━━\u001b[0m \u001b[32m284.2/284.2 kB\u001b[0m \u001b[31m1.5 MB/s\u001b[0m eta \u001b[36m0:00:00\u001b[0m\n",
            "\u001b[?25hInstalling collected packages: bcrypt\n",
            "Successfully installed bcrypt-4.3.0\n"
          ]
        }
      ]
    },
    {
      "cell_type": "markdown",
      "metadata": {
        "id": "f2e7e4d1"
      },
      "source": [
        "This script uses the `bcrypt` library to securely hash passwords before storing them."
      ]
    },
    {
      "cell_type": "code",
      "metadata": {
        "id": "3000b607"
      },
      "source": [
        "import bcrypt\n",
        "import json\n",
        "\n",
        "def register_user(name, email, password, filename=\"user_data.json\"):\n",
        "    \"\"\"\n",
        "    Registers a new user by storing their name, email, and a hashed password\n",
        "    in a JSON file.\n",
        "\n",
        "    Args:\n",
        "        name (str): The user's name.\n",
        "        email (str): The user's email address.\n",
        "        password (str): The user's password (will be hashed).\n",
        "        filename (str): The name of the file to store user data.\n",
        "    \"\"\"\n",
        "    # Hash the password\n",
        "    hashed_password = bcrypt.hashpw(password.encode('utf-8'), bcrypt.gensalt())\n",
        "\n",
        "    user_data = {\n",
        "        \"name\": name,\n",
        "        \"email\": email,\n",
        "        \"password\": hashed_password.decode('utf-8') # Store the hashed password as a string\n",
        "    }\n",
        "\n",
        "    # Load existing data or initialize an empty list\n",
        "    try:\n",
        "        with open(filename, 'r') as f:\n",
        "            users = json.load(f)\n",
        "    except (FileNotFoundError, json.JSONDecodeError):\n",
        "        users = []\n",
        "\n",
        "    # Append new user data\n",
        "    users.append(user_data)\n",
        "\n",
        "    # Write updated data back to the file\n",
        "    with open(filename, 'w') as f:\n",
        "        json.dump(users, f, indent=4)\n",
        "\n",
        "    print(f\"User {name} registered successfully.\")\n",
        "\n",
        "def verify_password(password, hashed_password):\n",
        "    \"\"\"\n",
        "    Verifies a password against a stored hashed password.\n",
        "\n",
        "    Args:\n",
        "        password (str): The password to verify.\n",
        "        hashed_password (str): The stored hashed password.\n",
        "\n",
        "    Returns:\n",
        "        bool: True if the password matches the hash, False otherwise.\n",
        "    \"\"\"\n",
        "    return bcrypt.checkpw(password.encode('utf-8'), hashed_password.encode('utf-8'))\n",
        "\n",
        "# Example usage:\n",
        "# Registering a user\n",
        "# register_user(\"John Doe\", \"john.doe@example.com\", \"mysecretpassword123\")\n",
        "\n",
        "# Verifying a password (example - you would typically load the hashed password from the file)\n",
        "# stored_hashed_password = \"$2b$12$...\" # Replace with a hashed password loaded from your file\n",
        "# provided_password = \"mysecretpassword123\"\n",
        "# if verify_password(provided_password, stored_hashed_password):\n",
        "#     print(\"Password verified successfully.\")\n",
        "# else:\n",
        "#     print(\"Password verification failed.\")"
      ],
      "execution_count": 3,
      "outputs": []
    },
    {
      "cell_type": "code",
      "source": [
        "Task Description #3 (Transparency in Algorithm Design)\n",
        "Objective: Use AI to generate an Armstrong number checking function\n",
        "with comments and explanations."
      ],
      "metadata": {
        "id": "QLHPv6cp11b6"
      },
      "execution_count": null,
      "outputs": []
    },
    {
      "cell_type": "code",
      "metadata": {
        "id": "ca752873"
      },
      "source": [
        "def is_armstrong_number(number):\n",
        "    \"\"\"\n",
        "    Checks if a given number is an Armstrong number.\n",
        "\n",
        "    An Armstrong number (also known as a narcissistic number, pluperfect digital\n",
        "    invariant, or plus perfect number) is a number that is the sum of its own\n",
        "    digits each raised to the power of the number of digits.\n",
        "\n",
        "    Args:\n",
        "        number (int): The number to check.\n",
        "\n",
        "    Returns:\n",
        "        bool: True if the number is an Armstrong number, False otherwise.\n",
        "    \"\"\"\n",
        "    # Convert the number to a string to easily access its digits and find the number of digits\n",
        "    num_str = str(number)\n",
        "    num_digits = len(num_str)\n",
        "    sum_of_powers = 0\n",
        "\n",
        "    # Iterate through each digit of the number\n",
        "    for digit in num_str:\n",
        "        # Convert the digit back to an integer and raise it to the power of the number of digits\n",
        "        sum_of_powers += int(digit) ** num_digits\n",
        "\n",
        "    # Check if the sum of the powers of the digits equals the original number\n",
        "    return sum_of_powers == number\n",
        "\n",
        "# Example usage:\n",
        "# num_to_check = 153\n",
        "# if is_armstrong_number(num_to_check):\n",
        "#     print(f\"{num_to_check} is an Armstrong number.\")\n",
        "# else:\n",
        "#     print(f\"{num_to_check} is not an Armstrong number.\")\n",
        "\n",
        "# num_to_check = 123\n",
        "# if is_armstrong_number(num_to_check):\n",
        "#     print(f\"{num_to_check} is an Armstrong number.\")\n",
        "# else:\n",
        "#     print(f\"{num_to_check} is not an Armstrong number.\")"
      ],
      "execution_count": 4,
      "outputs": []
    },
    {
      "cell_type": "code",
      "source": [
        "Task Description #4 (Transparency in Algorithm Comparison)\n",
        "Task: Use AI to implement two sorting algorithms (e.g., QuickSort and\n",
        "BubbleSort)."
      ],
      "metadata": {
        "id": "sv6_g3jQ2GCz"
      },
      "execution_count": null,
      "outputs": []
    },
    {
      "cell_type": "code",
      "metadata": {
        "id": "ef27793e"
      },
      "source": [
        "def bubble_sort(arr):\n",
        "    \"\"\"\n",
        "    Sorts an array using the Bubble Sort algorithm.\n",
        "\n",
        "    Args:\n",
        "        arr (list): The list of numbers to be sorted.\n",
        "\n",
        "    Returns:\n",
        "        list: The sorted list.\n",
        "    \"\"\"\n",
        "    n = len(arr)\n",
        "    # Traverse through all array elements\n",
        "    for i in range(n):\n",
        "        # Last i elements are already in place\n",
        "        for j in range(0, n - i - 1):\n",
        "            # Traverse the array from 0 to n-i-1\n",
        "            # Swap if the element found is greater than the next element\n",
        "            if arr[j] > arr[j + 1]:\n",
        "                arr[j], arr[j + 1] = arr[j + 1], arr[j]\n",
        "    return arr\n",
        "\n",
        "# Example usage:\n",
        "# my_list = [64, 34, 25, 12, 22, 11, 90]\n",
        "# sorted_list = bubble_sort(my_list.copy()) # Use a copy to keep the original list\n",
        "# print(\"Sorted array (Bubble Sort):\", sorted_list)"
      ],
      "execution_count": 5,
      "outputs": []
    },
    {
      "cell_type": "code",
      "metadata": {
        "id": "d0da412f"
      },
      "source": [
        "def quick_sort(arr):\n",
        "    \"\"\"\n",
        "    Sorts an array using the Quick Sort algorithm.\n",
        "\n",
        "    Args:\n",
        "        arr (list): The list of numbers to be sorted.\n",
        "\n",
        "    Returns:\n",
        "        list: The sorted list.\n",
        "    \"\"\"\n",
        "    if len(arr) <= 1:\n",
        "        return arr\n",
        "    else:\n",
        "        pivot = arr[0]\n",
        "        less = [x for x in arr[1:] if x <= pivot]\n",
        "        greater = [x for x in arr[1:] if x > pivot]\n",
        "        return quick_sort(less) + [pivot] + quick_sort(greater)\n",
        "\n",
        "# Example usage:\n",
        "# my_list = [64, 34, 25, 12, 22, 11, 90]\n",
        "# sorted_list = quick_sort(my_list.copy()) # Use a copy to keep the original list\n",
        "# print(\"Sorted array (Quick Sort):\", sorted_list)"
      ],
      "execution_count": 6,
      "outputs": []
    },
    {
      "cell_type": "code",
      "source": [
        "Task Description #5 (Transparency in AI Recommendations)\n",
        "Task: Use AI to create a product recommendation system."
      ],
      "metadata": {
        "id": "sUD7M2JO2uAq"
      },
      "execution_count": null,
      "outputs": []
    },
    {
      "cell_type": "code",
      "metadata": {
        "id": "aa3b00f4"
      },
      "source": [
        "import pandas as pd\n",
        "from sklearn.metrics.pairwise import cosine_similarity\n",
        "\n",
        "# Sample data: User ratings for products\n",
        "data = {\n",
        "    'user_id': [1, 1, 1, 2, 2, 2, 3, 3, 3, 4, 4, 4],\n",
        "    'product_id': ['A', 'B', 'C', 'A', 'B', 'D', 'A', 'C', 'D', 'B', 'C', 'D'],\n",
        "    'rating': [5, 3, 4, 4, 5, 3, 5, 4, 4, 3, 4, 5]\n",
        "}\n",
        "\n",
        "ratings_df = pd.DataFrame(data)\n",
        "\n",
        "# Create a user-item matrix\n",
        "user_item_matrix = ratings_df.pivot_table(index='user_id', columns='product_id', values='rating').fillna(0)\n",
        "\n",
        "# Calculate user similarity using cosine similarity\n",
        "user_similarity = cosine_similarity(user_item_matrix)\n",
        "user_similarity_df = pd.DataFrame(user_similarity, index=user_item_matrix.index, columns=user_item_matrix.index)\n",
        "\n",
        "def recommend_products(user_id, user_item_matrix, user_similarity_df, num_recommendations=2):\n",
        "    \"\"\"\n",
        "    Generates product recommendations for a given user using user-based collaborative filtering.\n",
        "\n",
        "    Args:\n",
        "        user_id (int): The ID of the user for whom to generate recommendations.\n",
        "        user_item_matrix (pd.DataFrame): The user-item matrix.\n",
        "        user_similarity_df (pd.DataFrame): The user-similarity matrix.\n",
        "        num_recommendations (int): The number of recommendations to generate.\n",
        "\n",
        "    Returns:\n",
        "        list: A list of recommended product IDs.\n",
        "    \"\"\"\n",
        "    # Get the similarity scores for the target user\n",
        "    user_similarities = user_similarity_df.loc[user_id]\n",
        "\n",
        "    # Get the ratings of the target user\n",
        "    user_ratings = user_item_matrix.loc[user_id]\n",
        "\n",
        "    # Remove the target user's own similarity score\n",
        "    user_similarities = user_similarities.drop(user_id)\n",
        "\n",
        "    # Initialize a dictionary to store weighted product scores\n",
        "    product_scores = {}\n",
        "\n",
        "    # Iterate through other users\n",
        "    for other_user_id, similarity in user_similarities.items():\n",
        "        if similarity > 0: # Consider users with positive similarity\n",
        "            other_user_ratings = user_item_matrix.loc[other_user_id]\n",
        "            # Iterate through products rated by the other user\n",
        "            for product_id, rating in other_user_ratings.items():\n",
        "                if rating > 0 and user_ratings[product_id] == 0: # If the target user hasn't rated this product\n",
        "                    if product_id not in product_scores:\n",
        "                        product_scores[product_id] = 0\n",
        "                    product_scores[product_id] += similarity * rating\n",
        "\n",
        "    # Sort products by their weighted scores in descending order\n",
        "    recommended_products = sorted(product_scores.items(), key=lambda item: item[1], reverse=True)\n",
        "\n",
        "    # Return the top N recommended product IDs\n",
        "    return [product for product, score in recommended_products[:num_recommendations]]\n",
        "\n",
        "# Example usage:\n",
        "# user_id_to_recommend = 1\n",
        "# recommendations = recommend_products(user_id_to_recommend, user_item_matrix, user_similarity_df)\n",
        "# print(f\"Recommended products for user {user_id_to_recommend}: {recommendations}\")"
      ],
      "execution_count": 7,
      "outputs": []
    },
    {
      "cell_type": "code",
      "source": [
        "Task Description #6 (Transparent Code Generation)\n",
        "Task: Ask AI to generate a Python function for calculating factorial\n",
        "using recursion."
      ],
      "metadata": {
        "id": "zCfgnU1-3Prr"
      },
      "execution_count": null,
      "outputs": []
    },
    {
      "cell_type": "code",
      "metadata": {
        "id": "741d440a"
      },
      "source": [
        "def recursive_factorial(n):\n",
        "    \"\"\"\n",
        "    Calculates the factorial of a non-negative integer using recursion.\n",
        "\n",
        "    The factorial of a non-negative integer n, denoted by n!, is the product\n",
        "    of all positive integers less than or equal to n. The factorial of 0 is 1.\n",
        "\n",
        "    Args:\n",
        "        n (int): The non-negative integer for which to calculate the factorial.\n",
        "\n",
        "    Returns:\n",
        "        int: The factorial of n.\n",
        "\n",
        "    Raises:\n",
        "        ValueError: If the input number is negative.\n",
        "    \"\"\"\n",
        "    if n < 0:\n",
        "        raise ValueError(\"Factorial is not defined for negative numbers\")\n",
        "    elif n == 0:\n",
        "        return 1\n",
        "    else:\n",
        "        # Recursive step: n! = n * (n-1)!\n",
        "        return n * recursive_factorial(n - 1)\n",
        "\n",
        "# Example usage:\n",
        "# num = 5\n",
        "# try:\n",
        "#     result = recursive_factorial(num)\n",
        "#     print(f\"The factorial of {num} is {result}\")\n",
        "# except ValueError as e:\n",
        "#     print(e)\n",
        "\n",
        "# num = 0\n",
        "# try:\n",
        "#     result = recursive_factorial(num)\n",
        "#     print(f\"The factorial of {num} is {result}\")\n",
        "# except ValueError as e:\n",
        "#     print(e)\n",
        "\n",
        "# num = -1\n",
        "# try:\n",
        "#     result = recursive_factorial(num)\n",
        "#     print(f\"The factorial of {num} is {result}\")\n",
        "# except ValueError as e:\n",
        "#     print(e)"
      ],
      "execution_count": 8,
      "outputs": []
    },
    {
      "cell_type": "code",
      "source": [
        "Task Description #7 (Inclusiveness in Customer Support)\n",
        "Code Snippet:\n",
        "Task:\n",
        "Regenerate the code so that support messages use neutral language (e.g.,\n",
        "“Dear {name}”) and optionally accept preferred titles"
      ],
      "metadata": {
        "id": "9wXPJZQX3fVs"
      },
      "execution_count": null,
      "outputs": []
    },
    {
      "cell_type": "code",
      "metadata": {
        "id": "6149c918"
      },
      "source": [
        "def generate_support_message(name, message, title=None):\n",
        "    \"\"\"\n",
        "    Generates a customer support message using neutral language and an optional title.\n",
        "\n",
        "    Args:\n",
        "        name (str): The customer's name.\n",
        "        message (str): The main support message content.\n",
        "        title (str, optional): The customer's preferred title (e.g., \"Mx.\", \"Dr.\"). Defaults to None.\n",
        "\n",
        "    Returns:\n",
        "        str: The formatted support message.\n",
        "    \"\"\"\n",
        "    if title:\n",
        "        greeting = f\"Dear {title} {name},\"\n",
        "    else:\n",
        "        greeting = f\"Dear {name},\"\n",
        "\n",
        "    formatted_message = f\"{greeting}\\n\\n{message}\\n\\nSincerely,\\nYour Support Team\"\n",
        "\n",
        "    return formatted_message\n",
        "\n",
        "# Example usage:\n",
        "# message_content = \"Thank you for contacting support. We are looking into your issue.\"\n",
        "\n",
        "# # Message with a title\n",
        "# support_message_with_title = generate_support_message(\"Alex Johnson\", message_content, title=\"Mx.\")\n",
        "# print(\"--- Message with Title ---\")\n",
        "# print(support_message_with_title)\n",
        "\n",
        "# print(\"\\n\") # Add a newline for separation\n",
        "\n",
        "# # Message without a title\n",
        "# support_message_without_title = generate_support_message(\"Casey Miller\", message_content)\n",
        "# print(\"--- Message without Title ---\")\n",
        "# print(support_message_without_title)"
      ],
      "execution_count": 9,
      "outputs": []
    }
  ]
}