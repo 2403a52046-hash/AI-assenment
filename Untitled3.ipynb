{
  "nbformat": 4,
  "nbformat_minor": 0,
  "metadata": {
    "colab": {
      "provenance": [],
      "authorship_tag": "ABX9TyNSYKtsuOECLbx+p2WMxSzG",
      "include_colab_link": true
    },
    "kernelspec": {
      "name": "python3",
      "display_name": "Python 3"
    },
    "language_info": {
      "name": "python"
    }
  },
  "cells": [
    {
      "cell_type": "markdown",
      "metadata": {
        "id": "view-in-github",
        "colab_type": "text"
      },
      "source": [
        "<a href=\"https://colab.research.google.com/github/2403a52046-hash/AI-assenment/blob/main/Untitled3.ipynb\" target=\"_parent\"><img src=\"https://colab.research.google.com/assets/colab-badge.svg\" alt=\"Open In Colab\"/></a>"
      ]
    },
    {
      "cell_type": "code",
      "execution_count": null,
      "metadata": {
        "id": "PAVaHhMPNKKE"
      },
      "outputs": [],
      "source": [
        "Task Description#1\n",
        "• Try 3 different prompts to generate a factorial function."
      ]
    },
    {
      "cell_type": "markdown",
      "metadata": {
        "id": "6fe25a1c"
      },
      "source": [
        "Prompt 1: Generate a Python function to calculate the factorial of a number."
      ]
    },
    {
      "cell_type": "code",
      "metadata": {
        "colab": {
          "base_uri": "https://localhost:8080/"
        },
        "id": "5f4cd7fd",
        "outputId": "2547e60f-96f0-427a-c032-e8bd421647c0"
      },
      "source": [
        "def factorial_1(n):\n",
        "  \"\"\"Calculates the factorial of a non-negative integer.\"\"\"\n",
        "  if n == 0:\n",
        "    return 1\n",
        "  else:\n",
        "    return n * factorial_1(n-1)\n",
        "\n",
        "# Example usage:\n",
        "print(factorial_1(5))"
      ],
      "execution_count": 1,
      "outputs": [
        {
          "output_type": "stream",
          "name": "stdout",
          "text": [
            "120\n"
          ]
        }
      ]
    },
    {
      "cell_type": "markdown",
      "metadata": {
        "id": "ab46ab17"
      },
      "source": [
        "Prompt 2: Write a Python function that computes the factorial using a loop."
      ]
    },
    {
      "cell_type": "code",
      "metadata": {
        "colab": {
          "base_uri": "https://localhost:8080/"
        },
        "id": "83c2fd8d",
        "outputId": "0f86d9a8-9a86-43f0-b743-6efc68943fbe"
      },
      "source": [
        "def factorial_2(n):\n",
        "  \"\"\"Calculates the factorial using a loop.\"\"\"\n",
        "  if n < 0:\n",
        "    return \"Factorial is not defined for negative numbers\"\n",
        "  elif n == 0:\n",
        "    return 1\n",
        "  else:\n",
        "    result = 1\n",
        "    for i in range(1, n + 1):\n",
        "      result *= i\n",
        "    return result\n",
        "\n",
        "# Example usage:\n",
        "print(factorial_2(5))"
      ],
      "execution_count": 2,
      "outputs": [
        {
          "output_type": "stream",
          "name": "stdout",
          "text": [
            "120\n"
          ]
        }
      ]
    },
    {
      "cell_type": "markdown",
      "metadata": {
        "id": "97ae00db"
      },
      "source": [
        "Prompt 3: Create a Python function that returns the factorial of a given integer, handling edge cases."
      ]
    },
    {
      "cell_type": "code",
      "metadata": {
        "colab": {
          "base_uri": "https://localhost:8080/"
        },
        "id": "84818c90",
        "outputId": "7d21da21-faec-43ee-9822-50f2fb740efa"
      },
      "source": [
        "import math\n",
        "\n",
        "def factorial_3(n):\n",
        "  \"\"\"Calculates the factorial using the math module, handling edge cases.\"\"\"\n",
        "  if not isinstance(n, int) or n < 0:\n",
        "    return \"Input must be a non-negative integer\"\n",
        "  else:\n",
        "    return math.factorial(n)\n",
        "\n",
        "# Example usage:\n",
        "print(factorial_3(5))"
      ],
      "execution_count": 3,
      "outputs": [
        {
          "output_type": "stream",
          "name": "stdout",
          "text": [
            "120\n"
          ]
        }
      ]
    },
    {
      "cell_type": "markdown",
      "metadata": {
        "id": "7a42a220"
      },
      "source": [
        "Here's an explanation of the generated code:\n",
        "\n",
        "**Prompt 1: Recursive Factorial**\n",
        "\n",
        "This function `factorial_1` uses recursion to calculate the factorial.\n",
        "- **Base case:** If `n` is 0, it returns 1 (since the factorial of 0 is 1).\n",
        "- **Recursive step:** Otherwise, it returns `n` multiplied by the factorial of `n-1`. This process continues until the base case is reached.\n",
        "\n",
        "**Prompt 2: Iterative Factorial**\n",
        "\n",
        "This function `factorial_2` uses a `for` loop to calculate the factorial.\n",
        "- It handles negative input by returning a message.\n",
        "- For non-negative input, it initializes `result` to 1 and then iterates from 1 to `n`, multiplying `result` by each number in the range.\n",
        "\n",
        "**Prompt 3: Factorial using `math.factorial`**\n",
        "\n",
        "This function `factorial_3` uses the built-in `math.factorial()` function.\n",
        "- It checks if the input `n` is a non-negative integer.\n",
        "- If it is, it directly calls `math.factorial(n)` to get the result. This is generally the most efficient way to calculate factorials in Python for non-negative integers."
      ]
    },
    {
      "cell_type": "code",
      "source": [
        "Task Description#2\n",
        "• Provide a clear example input-output prompt to generate a sorting function."
      ],
      "metadata": {
        "id": "1u5Kx00FNXpA"
      },
      "execution_count": null,
      "outputs": []
    },
    {
      "cell_type": "markdown",
      "metadata": {
        "id": "29d9c3f1"
      },
      "source": [
        "Prompt: Generate a Python function that takes a list of numbers as input and returns a new list with the numbers sorted in ascending order.\n",
        "\n",
        "Example Input: `[3, 1, 4, 1, 5, 9, 2, 6]`\n",
        "Example Output: `[1, 1, 2, 3, 4, 5, 6, 9]`"
      ]
    },
    {
      "cell_type": "code",
      "metadata": {
        "colab": {
          "base_uri": "https://localhost:8080/"
        },
        "id": "877e7c9c",
        "outputId": "e9fd35ed-6fe2-4af4-d68e-b723a8feef4b"
      },
      "source": [
        "def sort_list(numbers):\n",
        "  \"\"\"Sorts a list of numbers in ascending order.\"\"\"\n",
        "  return sorted(numbers)\n",
        "\n",
        "# Example usage:\n",
        "input_list = [3, 1, 4, 1, 5, 9, 2, 6]\n",
        "sorted_list = sort_list(input_list)\n",
        "print(sorted_list)"
      ],
      "execution_count": 4,
      "outputs": [
        {
          "output_type": "stream",
          "name": "stdout",
          "text": [
            "[1, 1, 2, 3, 4, 5, 6, 9]\n"
          ]
        }
      ]
    },
    {
      "cell_type": "markdown",
      "metadata": {
        "id": "bbfb0507"
      },
      "source": [
        "Explanation of the code:\n",
        "\n",
        "The code defines a function `sort_list` that takes one argument, `numbers`, which is expected to be a list of numbers.\n",
        "\n",
        "- **`def sort_list(numbers):`**: This line defines the function named `sort_list` that accepts one parameter, `numbers`.\n",
        "- **`\"\"\"Sorts a list of numbers in ascending order.\"\"\"`**: This is a docstring that explains what the function does.\n",
        "- **`return sorted(numbers)`**: This is the core of the function. Python has a built-in function called `sorted()` that takes an iterable (like a list) and returns a *new* list containing all items from the iterable in ascending order. The original list remains unchanged.\n",
        "\n",
        "The example usage demonstrates how to call the function:\n",
        "\n",
        "- **`input_list = [3, 1, 4, 1, 5, 9, 2, 6]`**: This line creates a list of numbers.\n",
        "- **`sorted_list = sort_list(input_list)`**: This line calls the `sort_list` function with `input_list` as the argument and stores the returned sorted list in the `sorted_list` variable.\n",
        "- **`print(sorted_list)`**: This line prints the `sorted_list`, which will be the sorted version of the original input list."
      ]
    },
    {
      "cell_type": "code",
      "source": [
        "Task Description#3\n",
        "• Start with the vague prompt “Generate python code to calculate power bill” and\n",
        "improve it step-by-step"
      ],
      "metadata": {
        "id": "19rVPcPtNoRI"
      },
      "execution_count": null,
      "outputs": []
    },
    {
      "cell_type": "markdown",
      "metadata": {
        "id": "35620325"
      },
      "source": [
        "**Step 1: Initial Code Generation (Vague Prompt)**\n",
        "\n",
        "Prompt: \"Generate python code to calculate power bill\""
      ]
    },
    {
      "cell_type": "code",
      "metadata": {
        "colab": {
          "base_uri": "https://localhost:8080/"
        },
        "id": "2c65dc22",
        "outputId": "1d74811e-2f5b-419b-9cb9-edb59d25dbcb"
      },
      "source": [
        "# Generated code based on the vague prompt\n",
        "\n",
        "def calculate_power_bill():\n",
        "  \"\"\"\n",
        "  Calculates a power bill.\n",
        "  Note: This is a very basic example due to the vague prompt.\n",
        "  \"\"\"\n",
        "  # Without more information, we can only provide a placeholder or a very simple calculation.\n",
        "  # Let's assume a fixed rate per unit of power consumed.\n",
        "  units_consumed = 100  # Example value\n",
        "  rate_per_unit = 0.15  # Example value in dollars per unit\n",
        "\n",
        "  bill_amount = units_consumed * rate_per_unit\n",
        "  return bill_amount\n",
        "\n",
        "# Example usage:\n",
        "bill = calculate_power_bill()\n",
        "print(f\"The power bill is: ${bill:.2f}\")"
      ],
      "execution_count": 5,
      "outputs": [
        {
          "output_type": "stream",
          "name": "stdout",
          "text": [
            "The power bill is: $15.00\n"
          ]
        }
      ]
    },
    {
      "cell_type": "code",
      "source": [
        "Task Description#4\n",
        "• Write structured comments to help AI generate two linked functions (e.g., login_user()\n",
        "and register_user())."
      ],
      "metadata": {
        "id": "IUZgCR0SOKiX"
      },
      "execution_count": null,
      "outputs": []
    },
    {
      "cell_type": "markdown",
      "metadata": {
        "id": "86d131b3"
      },
      "source": [
        "**Task Description#4: Structured Comments for Linked Functions**\n",
        "\n",
        "Below are structured comments intended to guide an AI in generating two linked Python functions: `register_user()` and `login_user()`. The comments specify the purpose, arguments, return values, and the relationship between these functions, particularly how registration should precede login for a new user.\n",
        "\n",
        "### `register_user()` function"
      ]
    },
    {
      "cell_type": "code",
      "metadata": {
        "id": "2f07b705"
      },
      "source": [
        "# Function: login_user\n",
        "# Purpose: To authenticate an existing user using their username and password.\n",
        "# Arguments:\n",
        "#   - username (str): The username of the user attempting to log in.\n",
        "#   - password (str): The password provided by the user attempting to log in.\n",
        "# Behavior:\n",
        "#   - Check if the username exists in the stored user data. If not, return an error message indicating the user is not registered.\n",
        "#   - If the username exists, verify if the provided password matches the stored password for that username.\n",
        "#   - Return a success message upon successful login.\n",
        "#   - Return an error message for incorrect password.\n",
        "# Linked Function: register_user - Users who are not registered via register_user() cannot log in."
      ],
      "execution_count": 6,
      "outputs": []
    },
    {
      "cell_type": "code",
      "metadata": {
        "colab": {
          "base_uri": "https://localhost:8080/"
        },
        "id": "d8fe7617",
        "outputId": "04865934-69a5-469c-9125-fafb0bbfc7ce"
      },
      "source": [
        "# Based on the structured comments, here is the code for the register_user function:\n",
        "\n",
        "# Function: register_user\n",
        "# Purpose: To register a new user by storing their username and password.\n",
        "# Arguments:\n",
        "#   - username (str): The desired username for the new user.\n",
        "#   - password (str): The desired password for the new user.\n",
        "# Behavior:\n",
        "#   - Check if the username already exists. If it does, return an error message indicating the username is taken.\n",
        "#   - If the username is available, store the username and password securely (e.g., in a dictionary or database).\n",
        "#   - Return a success message upon successful registration.\n",
        "# Linked Function: login_user - Registered users can subsequently log in using login_user().\n",
        "\n",
        "# Simple in-memory storage for demonstration purposes\n",
        "user_data = {}\n",
        "\n",
        "def register_user(username, password):\n",
        "  \"\"\"Registers a new user.\"\"\"\n",
        "  if username in user_data:\n",
        "    return f\"Error: Username '{username}' is already taken.\"\n",
        "  else:\n",
        "    user_data[username] = password # In a real application, passwords should be hashed\n",
        "    return f\"User '{username}' registered successfully.\"\n",
        "\n",
        "# Example usage:\n",
        "print(register_user(\"test_user\", \"password123\"))\n",
        "print(register_user(\"test_user\", \"another_password\")) # Attempt to register with the same username"
      ],
      "execution_count": 7,
      "outputs": [
        {
          "output_type": "stream",
          "name": "stdout",
          "text": [
            "User 'test_user' registered successfully.\n",
            "Error: Username 'test_user' is already taken.\n"
          ]
        }
      ]
    },
    {
      "cell_type": "code",
      "source": [
        "Task Description#5\n",
        "• Analyzing Prompt Specificity: Improving Temperature Conversion Function with\n",
        "Clear Instructions"
      ],
      "metadata": {
        "id": "K760o7mpOkZD"
      },
      "execution_count": null,
      "outputs": []
    },
    {
      "cell_type": "markdown",
      "metadata": {
        "id": "a66f28ff"
      },
      "source": [
        "**Step 1: Initial Code Generation (Vague Prompt)**\n",
        "\n",
        "Prompt: \"Generate a Python function for temperature conversion\""
      ]
    },
    {
      "cell_type": "code",
      "metadata": {
        "colab": {
          "base_uri": "https://localhost:8080/"
        },
        "id": "eab7e6f2",
        "outputId": "4ae54d57-a8a4-49e7-8247-dec27362473d"
      },
      "source": [
        "# Generated code based on the vague prompt\n",
        "\n",
        "def convert_temperature(temp):\n",
        "  \"\"\"Converts temperature.\"\"\"\n",
        "  # This is very vague, so the code will be simple and assume a default conversion.\n",
        "  # Let's assume it converts Celsius to Fahrenheit.\n",
        "  fahrenheit = (temp * 9/5) + 32\n",
        "  return fahrenheit\n",
        "\n",
        "# Example usage (assuming input is in Celsius):\n",
        "celsius_temp = 25\n",
        "converted_temp = convert_temperature(celsius_temp)\n",
        "print(f\"{celsius_temp} Celsius is {converted_temp} Fahrenheit.\")"
      ],
      "execution_count": 8,
      "outputs": [
        {
          "output_type": "stream",
          "name": "stdout",
          "text": [
            "25 Celsius is 77.0 Fahrenheit.\n"
          ]
        }
      ]
    },
    {
      "cell_type": "markdown",
      "metadata": {
        "id": "b5d20d97"
      },
      "source": [
        "**Explanation of Initial Code:**\n",
        "\n",
        "The code generated from the vague prompt \"Generate a Python function for temperature conversion\" is very basic because the prompt didn't specify which units to convert from or to.\n",
        "\n",
        "- **`def convert_temperature(temp):`**: This defines a function named `convert_temperature` that takes one argument, `temp`, which is expected to be the temperature value.\n",
        "- **`\"\"\"Converts temperature.\"\"\"`**: This is a simple docstring indicating the function's purpose, but it lacks specifics.\n",
        "- **`# Let's assume it converts Celsius to Fahrenheit.`**: This comment explicitly states the assumption made by the AI due to the vague prompt.\n",
        "- **`fahrenheit = (temp * 9/5) + 32`**: This line performs the calculation to convert Celsius to Fahrenheit.\n",
        "- **`return fahrenheit`**: The function returns the calculated temperature in Fahrenheit.\n",
        "- **Example Usage**: The code demonstrates how to call the function with an example Celsius temperature and prints the result, clearly stating the assumed input unit.\n",
        "\n",
        "**Limitations:**\n",
        "\n",
        "Due to the vague prompt, this code has significant limitations:\n",
        "\n",
        "- **Assumed conversion:** It only performs Celsius to Fahrenheit conversion. It cannot handle conversions from or to other units like Kelvin, or even Fahrenheit to Celsius.\n",
        "- **No unit specification:** The function doesn't allow the user to specify the input or output units.\n",
        "- **No input validation:** It doesn't check if the input is a valid number or if it's within a reasonable range for temperature.\n",
        "\n",
        "In the next step, we will improve the prompt to make it more specific and generate code that can handle a defined conversion."
      ]
    }
  ]
}