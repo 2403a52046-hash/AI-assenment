{
  "nbformat": 4,
  "nbformat_minor": 0,
  "metadata": {
    "colab": {
      "provenance": [],
      "authorship_tag": "ABX9TyO2HMqiGwA3VSTE+RmyFfnw",
      "include_colab_link": true
    },
    "kernelspec": {
      "name": "python3",
      "display_name": "Python 3"
    },
    "language_info": {
      "name": "python"
    }
  },
  "cells": [
    {
      "cell_type": "markdown",
      "metadata": {
        "id": "view-in-github",
        "colab_type": "text"
      },
      "source": [
        "<a href=\"https://colab.research.google.com/github/2403a52046-hash/AI-assenment/blob/main/Untitled1.ipynb\" target=\"_parent\"><img src=\"https://colab.research.google.com/assets/colab-badge.svg\" alt=\"Open In Colab\"/></a>"
      ]
    },
    {
      "cell_type": "code",
      "execution_count": null,
      "metadata": {
        "id": "I5np4RqBM-WS"
      },
      "outputs": [],
      "source": [
        "Task Description#1\n",
        "● Use Gemini in Colab to write a function that filters out all negative numbers from a\n",
        "given list\n"
      ]
    },
    {
      "cell_type": "code",
      "metadata": {
        "colab": {
          "base_uri": "https://localhost:8080/"
        },
        "id": "f642a435",
        "outputId": "3f0ad43a-6a6d-41a3-9ded-8d8e8a81606d"
      },
      "source": [
        "def filter_negative_numbers(input_list):\n",
        "  \"\"\"\n",
        "  Filters out all negative numbers from a given list.\n",
        "\n",
        "  Args:\n",
        "    input_list: A list of numbers.\n",
        "\n",
        "  Returns:\n",
        "    A new list containing only the non-negative numbers from the input list.\n",
        "  \"\"\"\n",
        "  return [number for number in input_list if number >= 0]\n",
        "\n",
        "# Example usage:\n",
        "my_list = [1, -2, 3, -4, 5, 0, -6]\n",
        "filtered_list = filter_negative_numbers(my_list)\n",
        "print(f\"Original list: {my_list}\")\n",
        "print(f\"Filtered list: {filtered_list}\")"
      ],
      "execution_count": 1,
      "outputs": [
        {
          "output_type": "stream",
          "name": "stdout",
          "text": [
            "Original list: [1, -2, 3, -4, 5, 0, -6]\n",
            "Filtered list: [1, 3, 5, 0]\n"
          ]
        }
      ]
    },
    {
      "cell_type": "code",
      "source": [
        "Task Description#2\n",
        "● Ask Gemini to generate code that reads a text file and counts the frequency of each\n",
        "word. Then ask it to explain the code."
      ],
      "metadata": {
        "id": "LJLdVu4bNqpf"
      },
      "execution_count": null,
      "outputs": []
    },
    {
      "cell_type": "markdown",
      "metadata": {
        "id": "028d57e1"
      },
      "source": [
        "**Explanation:**\n",
        "\n",
        "1. **Function Definition:** The code defines a function called `filter_negative_numbers` that takes one argument, `input_list`.\n",
        "2. **List Comprehension:** The core of the function is a list comprehension: `[number for number in input_list if number >= 0]`.\n",
        "   - It iterates through each `number` in the `input_list`.\n",
        "   - For each `number`, it checks if the number is greater than or equal to 0 (`number >= 0`).\n",
        "   - If the condition is true (the number is non-negative), the number is included in the new list being created.\n",
        "3. **Return Value:** The function returns the new list containing only the non-negative numbers.\n",
        "4. **Example Usage:** The code demonstrates how to use the function with an example list `my_list`. The output shows both the original and the filtered lists."
      ]
    },
    {
      "cell_type": "code",
      "metadata": {
        "colab": {
          "base_uri": "https://localhost:8080/"
        },
        "id": "b36f06e0",
        "outputId": "06f8cd49-1037-4a42-a542-83568b6a6622"
      },
      "source": [
        "import re\n",
        "from collections import Counter\n",
        "\n",
        "def count_word_frequency(filepath):\n",
        "  \"\"\"\n",
        "  Reads a text file and counts the frequency of each word.\n",
        "\n",
        "  Args:\n",
        "    filepath: The path to the text file.\n",
        "\n",
        "  Returns:\n",
        "    A dictionary where keys are words and values are their frequencies.\n",
        "  \"\"\"\n",
        "  try:\n",
        "    with open(filepath, 'r', encoding='utf-8') as file:\n",
        "      text = file.read().lower()\n",
        "      # Use regex to find all words (sequences of letters)\n",
        "      words = re.findall(r'\\b[a-z]+\\b', text)\n",
        "      word_counts = Counter(words)\n",
        "      return dict(word_counts)\n",
        "  except FileNotFoundError:\n",
        "    print(f\"Error: File not found at {filepath}\")\n",
        "    return None\n",
        "  except Exception as e:\n",
        "    print(f\"An error occurred: {e}\")\n",
        "    return None\n",
        "\n",
        "# Example usage:\n",
        "# Create a dummy text file for demonstration\n",
        "with open('sample.txt', 'w', encoding='utf-8') as f:\n",
        "    f.write(\"This is a sample text file. This file is a sample.\")\n",
        "\n",
        "word_frequencies = count_word_frequency('sample.txt')\n",
        "\n",
        "if word_frequencies:\n",
        "  print(\"Word frequencies:\")\n",
        "  for word, count in word_frequencies.items():\n",
        "    print(f\"'{word}': {count}\")"
      ],
      "execution_count": 2,
      "outputs": [
        {
          "output_type": "stream",
          "name": "stdout",
          "text": [
            "Word frequencies:\n",
            "'this': 2\n",
            "'is': 2\n",
            "'a': 2\n",
            "'sample': 2\n",
            "'text': 1\n",
            "'file': 2\n"
          ]
        }
      ]
    },
    {
      "cell_type": "code",
      "source": [
        "Task Description#3\n",
        "● Use Cursor AI to generate a Python class called Book with attributes title, author, and\n",
        "a method summary() that prints the details."
      ],
      "metadata": {
        "id": "dJoD6HT5N8xW"
      },
      "execution_count": null,
      "outputs": []
    },
    {
      "cell_type": "markdown",
      "metadata": {
        "id": "9227db10"
      },
      "source": [
        "**Explanation:**\n",
        "\n",
        "1.  **Import Libraries:**\n",
        "    *   `import re`: Imports the regular expression module for pattern matching in text.\n",
        "    *   `from collections import Counter`: Imports the `Counter` class, a specialized dictionary subclass for counting hashable objects.\n",
        "\n",
        "2.  **Function Definition:**\n",
        "    *   `def count_word_frequency(filepath):`: Defines a function named `count_word_frequency` that takes one argument, `filepath`, which is the path to the text file.\n",
        "\n",
        "3.  **Error Handling:**\n",
        "    *   `try...except FileNotFoundError...except Exception:`: This block handles potential errors during file processing. It specifically catches `FileNotFoundError` if the provided `filepath` doesn't exist and a general `Exception` for any other errors.\n",
        "\n",
        "4.  **File Reading:**\n",
        "    *   `with open(filepath, 'r', encoding='utf-8') as file:`: Opens the file specified by `filepath` in read mode (`'r'`) with UTF-8 encoding. The `with` statement ensures the file is automatically closed even if errors occur.\n",
        "    *   `text = file.read().lower()`: Reads the entire content of the file into the `text` variable and converts it to lowercase using `.lower()` to ensure case-insensitive word counting.\n",
        "\n",
        "5.  **Word Extraction:**\n",
        "    *   `words = re.findall(r'\\b[a-z]+\\b', text)`: Uses a regular expression `r'\\b[a-z]+\\b'` to find all sequences of lowercase letters (`[a-z]+`) that are whole words (`\\b` word boundaries). This effectively extracts words and ignores punctuation and numbers.\n",
        "\n",
        "6.  **Word Counting:**\n",
        "    *   `word_counts = Counter(words)`: Creates a `Counter` object named `word_counts` from the `words` list. The `Counter` automatically counts the occurrences of each unique word.\n",
        "    *   `return dict(word_counts)`: Converts the `Counter` object back into a regular dictionary and returns it.\n",
        "\n",
        "7.  **Example Usage:**\n",
        "    *   `with open('sample.txt', 'w', encoding='utf-8') as f: f.write(\"This is a sample text file. This file is a sample.\")`: This part creates a simple text file named `sample.txt` with some content for demonstration purposes.\n",
        "    *   `word_frequencies = count_word_frequency('sample.txt')`: Calls the `count_word_frequency` function with the path to the sample file and stores the returned dictionary in `word_frequencies`.\n",
        "    *   `if word_frequencies:`: Checks if the function returned a valid dictionary (not `None` in case of errors).\n",
        "    *   `print(\"Word frequencies:\")`: Prints a header.\n",
        "    *   `for word, count in word_frequencies.items(): print(f\"'{word}': {count}\")`: Iterates through the items (word and count pairs) in the `word_frequencies` dictionary and prints each word and its frequency."
      ]
    },
    {
      "cell_type": "code",
      "metadata": {
        "colab": {
          "base_uri": "https://localhost:8080/"
        },
        "id": "0ec4fd8d",
        "outputId": "30bfc505-394d-4c13-a20c-952fe7b4f6d1"
      },
      "source": [
        "class Book:\n",
        "  \"\"\"\n",
        "  A class to represent a book.\n",
        "  \"\"\"\n",
        "  def __init__(self, title, author):\n",
        "    \"\"\"\n",
        "    Initializes a new Book instance.\n",
        "\n",
        "    Args:\n",
        "      title: The title of the book.\n",
        "      author: The author of the book.\n",
        "    \"\"\"\n",
        "    self.title = title\n",
        "    self.author = author\n",
        "\n",
        "  def summary(self):\n",
        "    \"\"\"\n",
        "    Prints the details of the book.\n",
        "    \"\"\"\n",
        "    print(f\"Title: {self.title}\")\n",
        "    print(f\"Author: {self.author}\")\n",
        "\n",
        "# Example usage:\n",
        "my_book = Book(\"The Hitchhiker's Guide to the Galaxy\", \"Douglas Adams\")\n",
        "my_book.summary()"
      ],
      "execution_count": 3,
      "outputs": [
        {
          "output_type": "stream",
          "name": "stdout",
          "text": [
            "Title: The Hitchhiker's Guide to the Galaxy\n",
            "Author: Douglas Adams\n"
          ]
        }
      ]
    },
    {
      "cell_type": "code",
      "source": [
        "Task Description#4\n",
        "● Ask Gemini to write a program that checks whether a number is an Armstrong\n",
        "number, and then modify it using Cursor AI to improve performance or structure."
      ],
      "metadata": {
        "id": "97ykX-gTOO8y"
      },
      "execution_count": null,
      "outputs": []
    },
    {
      "cell_type": "markdown",
      "metadata": {
        "id": "aaa7b44a"
      },
      "source": [
        "**Explanation:**\n",
        "\n",
        "1.  **Class Definition:**\n",
        "    *   `class Book:`: This line defines a new class named `Book`.\n",
        "\n",
        "2.  **Constructor (`__init__`)**:\n",
        "    *   `def __init__(self, title, author):`: This is the constructor method. It's called automatically when you create a new object (instance) of the `Book` class.\n",
        "    *   `self`: Refers to the instance of the class being created.\n",
        "    *   `title` and `author`: These are parameters that you pass when creating a `Book` object.\n",
        "    *   `self.title = title` and `self.author = author`: These lines assign the values passed to the constructor to the `title` and `author` attributes of the `Book` instance.\n",
        "\n",
        "3.  **`summary()` Method:**\n",
        "    *   `def summary(self):`: This defines a method named `summary` within the `Book` class. Methods are functions that belong to a class.\n",
        "    *   `self`: Again, this refers to the instance of the class.\n",
        "    *   `print(f\"Title: {self.title}\")` and `print(f\"Author: {self.author}\")`: These lines print the values of the `title` and `author` attributes of the specific `Book` instance on which the `summary()` method is called.\n",
        "\n",
        "4.  **Example Usage:**\n",
        "    *   `my_book = Book(\"The Hitchhiker's Guide to the Galaxy\", \"Douglas Adams\")`: This line creates a new instance of the `Book` class. It calls the `__init__` constructor, passing \"The Hitchhiker's Guide to the Galaxy\" as the `title` and \"Douglas Adams\" as the `author`. The created object is assigned to the variable `my_book`.\n",
        "    *   `my_book.summary()`: This line calls the `summary()` method on the `my_book` instance. This will execute the code inside the `summary()` method, printing the title and author of `my_book`."
      ]
    },
    {
      "cell_type": "code",
      "metadata": {
        "colab": {
          "base_uri": "https://localhost:8080/"
        },
        "id": "294b9d1a",
        "outputId": "cd09ed21-b198-475f-8c13-0f67af38defe"
      },
      "source": [
        "def is_armstrong_number(number):\n",
        "  \"\"\"\n",
        "  Checks if a number is an Armstrong number.\n",
        "\n",
        "  An Armstrong number (or narcissistic number) is a number that is the sum\n",
        "  of its own digits each raised to the power of the number of digits.\n",
        "\n",
        "  Args:\n",
        "    number: An integer.\n",
        "\n",
        "  Returns:\n",
        "    True if the number is an Armstrong number, False otherwise.\n",
        "  \"\"\"\n",
        "  # Convert the number to a string to get the number of digits\n",
        "  num_str = str(number)\n",
        "  num_digits = len(num_str)\n",
        "  sum_of_powers = 0\n",
        "\n",
        "  # Calculate the sum of digits raised to the power of the number of digits\n",
        "  for digit in num_str:\n",
        "    sum_of_powers += int(digit) ** num_digits\n",
        "\n",
        "  # Check if the sum is equal to the original number\n",
        "  return sum_of_powers == number\n",
        "\n",
        "# Example usage:\n",
        "num_to_check = 153\n",
        "if is_armstrong_number(num_to_check):\n",
        "  print(f\"{num_to_check} is an Armstrong number.\")\n",
        "else:\n",
        "  print(f\"{num_to_check} is not an Armstrong number.\")\n",
        "\n",
        "num_to_check = 123\n",
        "if is_armstrong_number(num_to_check):\n",
        "  print(f\"{num_to_check} is an Armstrong number.\")\n",
        "else:\n",
        "  print(f\"{num_to_check} is not an Armstrong number.\")"
      ],
      "execution_count": 4,
      "outputs": [
        {
          "output_type": "stream",
          "name": "stdout",
          "text": [
            "153 is an Armstrong number.\n",
            "123 is not an Armstrong number.\n"
          ]
        }
      ]
    },
    {
      "cell_type": "markdown",
      "metadata": {
        "id": "048393c1"
      },
      "source": [
        "**Explanation of the Armstrong Number Check Code:**\n",
        "\n",
        "1.  **Function Definition:**\n",
        "    *   `def is_armstrong_number(number):`: Defines a function named `is_armstrong_number` that takes one argument, `number`, which is the integer to be checked.\n",
        "\n",
        "2.  **Convert to String and Get Number of Digits:**\n",
        "    *   `num_str = str(number)`: Converts the input `number` to a string. This is done to easily iterate through the digits and determine the number of digits.\n",
        "    *   `num_digits = len(num_str)`: Calculates the number of digits in the number by getting the length of the string representation.\n",
        "\n",
        "3.  **Initialize Sum:**\n",
        "    *   `sum_of_powers = 0`: Initializes a variable `sum_of_powers` to 0. This variable will store the sum of the digits raised to the power of the number of digits.\n",
        "\n",
        "4.  **Calculate Sum of Powers:**\n",
        "    *   `for digit in num_str:`: This loop iterates through each character (digit) in the `num_str`.\n",
        "    *   `sum_of_powers += int(digit) ** num_digits`:\n",
        "        *   `int(digit)`: Converts the character digit back to an integer.\n",
        "        *   `** num_digits`: Raises the integer digit to the power of `num_digits`.\n",
        "        *   `sum_of_powers += ...`: Adds the result to the `sum_of_powers` variable.\n",
        "\n",
        "5.  **Check for Armstrong Number:**\n",
        "    *   `return sum_of_powers == number`: Compares the calculated `sum_of_powers` with the original `number`. If they are equal, the function returns `True`, indicating that the number is an Armstrong number; otherwise, it returns `False`.\n",
        "\n",
        "6.  **Example Usage:**\n",
        "    *   The code includes example calls to the `is_armstrong_number` function with `153` (an Armstrong number) and `123` (not an Armstrong number) to demonstrate its usage and print the results."
      ]
    },
    {
      "cell_type": "code",
      "metadata": {
        "colab": {
          "base_uri": "https://localhost:8080/"
        },
        "id": "d89071ca",
        "outputId": "c1149280-03e9-4e6f-abe4-5dfbba19215c"
      },
      "source": [
        "def is_armstrong_number_optimized(number):\n",
        "    \"\"\"\n",
        "    Checks if a number is an Armstrong number using mathematical operations.\n",
        "\n",
        "    Args:\n",
        "      number: An integer.\n",
        "\n",
        "    Returns:\n",
        "      True if the number is an Armstrong number, False otherwise.\n",
        "    \"\"\"\n",
        "    if number < 0:\n",
        "        return False  # Armstrong numbers are typically non-negative\n",
        "\n",
        "    # Calculate the number of digits using logarithm\n",
        "    import math\n",
        "    if number == 0:\n",
        "        num_digits = 1\n",
        "    else:\n",
        "        num_digits = int(math.log10(number)) + 1\n",
        "\n",
        "    original_number = number\n",
        "    sum_of_powers = 0\n",
        "\n",
        "    # Extract digits and calculate the sum of powers\n",
        "    while number > 0:\n",
        "        digit = number % 10\n",
        "        sum_of_powers += digit ** num_digits\n",
        "        number //= 10  # Integer division to remove the last digit\n",
        "\n",
        "    return sum_of_powers == original_number\n",
        "\n",
        "# Example usage:\n",
        "num_to_check = 153\n",
        "if is_armstrong_number_optimized(num_to_check):\n",
        "  print(f\"{num_to_check} is an Armstrong number (optimized).\")\n",
        "else:\n",
        "  print(f\"{num_to_check} is not an Armstrong number (optimized).\")\n",
        "\n",
        "num_to_check = 123\n",
        "if is_armstrong_number_optimized(num_to_check):\n",
        "  print(f\"{num_to_check} is an Armstrong number (optimized).\")\n",
        "else:\n",
        "  print(f\"{num_to_check} is not an Armstrong number (optimized).\")\n",
        "\n",
        "num_to_check = 0\n",
        "if is_armstrong_number_optimized(num_to_check):\n",
        "  print(f\"{num_to_check} is an Armstrong number (optimized).\")\n",
        "else:\n",
        "  print(f\"{num_to_check} is not an Armstrong number (optimized).\")"
      ],
      "execution_count": 5,
      "outputs": [
        {
          "output_type": "stream",
          "name": "stdout",
          "text": [
            "153 is an Armstrong number (optimized).\n",
            "123 is not an Armstrong number (optimized).\n",
            "0 is an Armstrong number (optimized).\n"
          ]
        }
      ]
    },
    {
      "cell_type": "code",
      "source": [
        "Task Description#5\n",
        "● Use both Gemini and Cursor AI to generate code for sorting a list of dictionaries by a\n",
        "specific key (e.g., age)."
      ],
      "metadata": {
        "id": "LEgYTFv1OqEC"
      },
      "execution_count": null,
      "outputs": []
    },
    {
      "cell_type": "markdown",
      "metadata": {
        "id": "ffe307e6"
      },
      "source": [
        "**Explanation of the Optimized Armstrong Number Check Code:**\n",
        "\n",
        "This version of the code aims for potential performance improvement by avoiding string conversions and using mathematical operations to extract digits.\n",
        "\n",
        "1.  **Function Definition:**\n",
        "    *   `def is_armstrong_number_optimized(number):`: Defines the optimized function.\n",
        "\n",
        "2.  **Handle Negative Numbers:**\n",
        "    *   `if number < 0: return False`: Handles negative numbers, as Armstrong numbers are usually defined for non-negative integers.\n",
        "\n",
        "3.  **Calculate Number of Digits:**\n",
        "    *   `import math`: Imports the `math` module for using `log10`.\n",
        "    *   `if number == 0: num_digits = 1`: Handles the special case of 0, which has one digit.\n",
        "    *   `else: num_digits = int(math.log10(number)) + 1`: For positive numbers, the number of digits is calculated using `math.log10`. The logarithm base 10 of a number gives you roughly the number of digits minus one. Taking the integer part and adding 1 gives the correct number of digits.\n",
        "\n",
        "4.  **Initialize Variables:**\n",
        "    *   `original_number = number`: Stores the original number because the `number` variable will be modified in the `while` loop.\n",
        "    *   `sum_of_powers = 0`: Initializes the sum.\n",
        "\n",
        "5.  **Extract Digits and Calculate Sum of Powers:**\n",
        "    *   `while number > 0:`: The loop continues as long as there are digits left in the `number`.\n",
        "    *   `digit = number % 10`: The modulo operator (`%`) gives the remainder when `number` is divided by 10, which is the last digit.\n",
        "    *   `sum_of_powers += digit ** num_digits`: Adds the last digit raised to the power of `num_digits` to the `sum_of_powers`.\n",
        "    *   `number //= 10`: Integer division (`//`) removes the last digit from the `number`.\n",
        "\n",
        "6.  **Check for Armstrong Number:**\n",
        "    *   `return sum_of_powers == original_number`: Compares the calculated sum with the `original_number` to determine if it's an Armstrong number.\n",
        "\n",
        "This mathematical approach can be more efficient for very large numbers compared to string conversion, although for typical integer sizes, the difference might be negligible. It also demonstrates an alternative structural approach to solving the problem."
      ]
    },
    {
      "cell_type": "code",
      "metadata": {
        "colab": {
          "base_uri": "https://localhost:8080/"
        },
        "id": "20af1774",
        "outputId": "fad6ef78-7042-4669-f0d8-6b503de0af9b"
      },
      "source": [
        "def sort_list_of_dictionaries(list_of_dicts, key_to_sort_by):\n",
        "  \"\"\"\n",
        "  Sorts a list of dictionaries by the value of a specified key.\n",
        "\n",
        "  Args:\n",
        "    list_of_dicts: A list where each element is a dictionary.\n",
        "    key_to_sort_by: The key within the dictionaries to sort by.\n",
        "\n",
        "  Returns:\n",
        "    A new list of dictionaries sorted by the specified key.\n",
        "  \"\"\"\n",
        "  # Use the sorted() function with a lambda function as the key\n",
        "  # The lambda function specifies that each dictionary should be sorted\n",
        "  # based on the value associated with the key_to_sort_by.\n",
        "  return sorted(list_of_dicts, key=lambda x: x[key_to_sort_by])\n",
        "\n",
        "# Example usage:\n",
        "people = [\n",
        "    {'name': 'Alice', 'age': 30, 'city': 'New York'},\n",
        "    {'name': 'Bob', 'age': 22, 'city': 'London'},\n",
        "    {'name': 'Charlie', 'age': 35, 'city': 'Paris'},\n",
        "    {'name': 'David', 'age': 22, 'city': 'Tokyo'}\n",
        "]\n",
        "\n",
        "print(\"Original list:\")\n",
        "for person in people:\n",
        "    print(person)\n",
        "\n",
        "sorted_people_by_age = sort_list_of_dictionaries(people, 'age')\n",
        "\n",
        "print(\"\\nSorted list by age:\")\n",
        "for person in sorted_people_by_age:\n",
        "    print(person)\n",
        "\n",
        "# Example sorting by name:\n",
        "sorted_people_by_name = sort_list_of_dictionaries(people, 'name')\n",
        "\n",
        "print(\"\\nSorted list by name:\")\n",
        "for person in sorted_people_by_name:\n",
        "    print(person)"
      ],
      "execution_count": 6,
      "outputs": [
        {
          "output_type": "stream",
          "name": "stdout",
          "text": [
            "Original list:\n",
            "{'name': 'Alice', 'age': 30, 'city': 'New York'}\n",
            "{'name': 'Bob', 'age': 22, 'city': 'London'}\n",
            "{'name': 'Charlie', 'age': 35, 'city': 'Paris'}\n",
            "{'name': 'David', 'age': 22, 'city': 'Tokyo'}\n",
            "\n",
            "Sorted list by age:\n",
            "{'name': 'Bob', 'age': 22, 'city': 'London'}\n",
            "{'name': 'David', 'age': 22, 'city': 'Tokyo'}\n",
            "{'name': 'Alice', 'age': 30, 'city': 'New York'}\n",
            "{'name': 'Charlie', 'age': 35, 'city': 'Paris'}\n",
            "\n",
            "Sorted list by name:\n",
            "{'name': 'Alice', 'age': 30, 'city': 'New York'}\n",
            "{'name': 'Bob', 'age': 22, 'city': 'London'}\n",
            "{'name': 'Charlie', 'age': 35, 'city': 'Paris'}\n",
            "{'name': 'David', 'age': 22, 'city': 'Tokyo'}\n"
          ]
        }
      ]
    },
    {
      "cell_type": "markdown",
      "metadata": {
        "id": "8c53beee"
      },
      "source": [
        "**Explanation:**\n",
        "\n",
        "1.  **Function Definition:**\n",
        "    *   `def sort_list_of_dictionaries(list_of_dicts, key_to_sort_by):`: Defines a function that takes two arguments: `list_of_dicts` (the list of dictionaries to be sorted) and `key_to_sort_by` (the string representing the key to sort by).\n",
        "\n",
        "2.  **Sorting with `sorted()` and `lambda`:**\n",
        "    *   `return sorted(list_of_dicts, key=lambda x: x[key_to_sort_by])`: This is the core of the sorting logic.\n",
        "        *   `sorted()`: This built-in Python function returns a **new** sorted list from the items in an iterable. It does not modify the original list.\n",
        "        *   `key=lambda x: x[key_to_sort_by]`: The `key` argument specifies a function to be called on each list element prior to making comparisons.\n",
        "            *   `lambda x: ...`: This is a lambda function (a small anonymous function). It takes one argument, `x`, which represents each individual dictionary in the `list_of_dicts` during the sorting process.\n",
        "            *   `x[key_to_sort_by]`: This part of the lambda function accesses the value associated with the `key_to_sort_by` within the current dictionary `x`. The `sorted()` function then uses these values to determine the order of the dictionaries in the resulting list.\n",
        "\n",
        "3.  **Example Usage:**\n",
        "    *   A sample list of dictionaries called `people` is created.\n",
        "    *   The `sort_list_of_dictionaries` function is called with `people` and the key `'age'` to sort the list by age. The result is stored in `sorted_people_by_age`.\n",
        "    *   The original and sorted lists are printed to demonstrate the function's output.\n",
        "    *   Another example shows sorting the same list by the `'name'` key."
      ]
    }
  ]
}