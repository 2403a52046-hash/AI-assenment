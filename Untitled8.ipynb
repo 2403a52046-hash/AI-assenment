{
  "nbformat": 4,
  "nbformat_minor": 0,
  "metadata": {
    "colab": {
      "provenance": [],
      "authorship_tag": "ABX9TyOGX7xODnEfNtEuH9esmVNf",
      "include_colab_link": true
    },
    "kernelspec": {
      "name": "python3",
      "display_name": "Python 3"
    },
    "language_info": {
      "name": "python"
    }
  },
  "cells": [
    {
      "cell_type": "markdown",
      "metadata": {
        "id": "view-in-github",
        "colab_type": "text"
      },
      "source": [
        "<a href=\"https://colab.research.google.com/github/2403a52046-hash/AI-assenment/blob/main/Untitled8.ipynb\" target=\"_parent\"><img src=\"https://colab.research.google.com/assets/colab-badge.svg\" alt=\"Open In Colab\"/></a>"
      ]
    },
    {
      "cell_type": "code",
      "source": [
        "Task Description #1 (Automatic Code Commenting)\n",
        "Scenario: You have been given a Python function without comments.\n",
        "def calculate_discount(price, discount_rate):\n",
        "return price - (price * discount_rate / 100)\n",
        "• Use an AI tool (or manually simulate it) to generate line-by-line\n",
        "comments for the function.\n",
        "• Modify the function so that it includes a docstring in Google-style\n",
        "or NumPy-style format.\n",
        "• Compare the auto-generated comments with your manually\n",
        "written version"
      ],
      "metadata": {
        "id": "OYR6MiardgrI"
      },
      "execution_count": null,
      "outputs": []
    },
    {
      "cell_type": "code",
      "metadata": {
        "id": "9fd8cfe7"
      },
      "source": [
        "def calculate_discount(price, discount_rate):\n",
        "  \"\"\"\n",
        "  Calculates the discounted price based on the original price and discount rate.\n",
        "\n",
        "  Args:\n",
        "    price: The original price of the item.\n",
        "    discount_rate: The discount rate as a percentage.\n",
        "\n",
        "  Returns:\n",
        "    The price after applying the discount.\n",
        "  \"\"\"\n",
        "  # Calculate the discount amount\n",
        "  discount_amount = price * discount_rate / 100\n",
        "  # Subtract the discount amount from the original price\n",
        "  discounted_price = price - discount_amount\n",
        "  # Return the discounted price\n",
        "  return discounted_price"
      ],
      "execution_count": 2,
      "outputs": []
    },
    {
      "cell_type": "code",
      "source": [
        "Task Description #2 (API Documentation Generator)\n",
        "Scenario: A team is building a Library Management System with\n",
        "multiple functions.\n",
        "def add_book(title, author, year):\n",
        "# code to add book\n",
        "pass\n",
        "def issue_book(book_id, user_id):\n",
        "# code to issue book\n",
        "Pass\n",
        "• Write a Python script that uses docstrings for each function (with\n",
        "input, output, and description).\n",
        "• Use a documentation generator tool (like pdoc, Sphinx, or\n",
        "MkDocs) to automatically create HTML documentation.\n",
        "• Submit both the code and the generated documentation as output"
      ],
      "metadata": {
        "id": "CdQEHWJZdx-r"
      },
      "execution_count": null,
      "outputs": []
    },
    {
      "cell_type": "code",
      "metadata": {
        "id": "448ca573"
      },
      "source": [
        "def add_book(title, author, year):\n",
        "  \"\"\"Adds a new book to the library system.\n",
        "\n",
        "  Args:\n",
        "    title: The title of the book.\n",
        "    author: The author of the book.\n",
        "    year: The publication year of the book.\n",
        "\n",
        "  Returns:\n",
        "    A message indicating the book was added successfully (or a book ID).\n",
        "    (This is a placeholder, actual implementation would return something meaningful)\n",
        "  \"\"\"\n",
        "  # code to add book\n",
        "  print(f\"Book '{title}' by {author} ({year}) added.\")\n",
        "  pass\n",
        "\n",
        "def issue_book(book_id, user_id):\n",
        "  \"\"\"Issues a book to a user.\n",
        "\n",
        "  Args:\n",
        "    book_id: The ID of the book to issue.\n",
        "    user_id: The ID of the user issuing the book.\n",
        "\n",
        "  Returns:\n",
        "    A message indicating the book was issued successfully (or a transaction ID).\n",
        "    (This is a placeholder, actual implementation would return something meaningful)\n",
        "  \"\"\"\n",
        "  # code to issue book\n",
        "  print(f\"Book with ID {book_id} issued to user {user_id}.\")\n",
        "  pass\n",
        "\n",
        "# Example usage (optional)\n",
        "# add_book(\"The Hitchhiker's Guide to the Galaxy\", \"Douglas Adams\", 1979)\n",
        "# issue_book(123, 456)"
      ],
      "execution_count": 3,
      "outputs": []
    },
    {
      "cell_type": "code",
      "source": [
        "Task Description #3 (AI-Assisted Code Summarization)\n",
        "Scenario: You are reviewing a colleague’s codebase containing long\n",
        "functions.\n",
        "def process_sensor_data(data):\n",
        "cleaned = [x for x in data if x is not None]\n",
        "avg = sum(cleaned)/len(cleaned)\n",
        "anomalies = [x for x in cleaned if abs(x - avg) > 10]\n",
        "return {\"average\": avg, \"anomalies\": anomalies}\n",
        "• Generate a summary comment explaining the purpose of the\n",
        "function in 2–3 lines.\n",
        "• Create a flow-style comment (step-by-step explanation).\n",
        "• Write a short paragraph of documentation describing possible use\n",
        "cases of this function in real-world scenarios."
      ],
      "metadata": {
        "id": "l_LJyD3JeCrt"
      },
      "execution_count": null,
      "outputs": []
    },
    {
      "cell_type": "code",
      "metadata": {
        "id": "4b7a5356"
      },
      "source": [
        "def process_sensor_data(data):\n",
        "  # Summary:\n",
        "  # This function processes a list of sensor data,\n",
        "  # calculates the average after cleaning, and identifies anomalies.\n",
        "  # It returns the average and a list of anomalous data points.\n",
        "\n",
        "  # Flow-style explanation:\n",
        "  # 1. Clean the input data by removing None values.\n",
        "  # 2. Calculate the average of the cleaned data.\n",
        "  # 3. Identify data points that are more than 10 units away from the average as anomalies.\n",
        "  # 4. Return a dictionary containing the calculated average and the list of anomalies.\n",
        "\n",
        "  \"\"\"\n",
        "  Processes raw sensor data to calculate the average and identify anomalies.\n",
        "\n",
        "  This function is useful in real-world scenarios such as monitoring environmental\n",
        "  conditions (temperature, humidity), analyzing equipment performance data,\n",
        "  or processing financial time series to detect unusual fluctuations.\n",
        "  It helps in quickly identifying data points that deviate significantly\n",
        "  from the norm, which could indicate errors, malfunctions, or significant events.\n",
        "\n",
        "  Args:\n",
        "    data: A list of numerical sensor data, which may contain None values.\n",
        "\n",
        "  Returns:\n",
        "    A dictionary containing:\n",
        "      \"average\": The average of the cleaned data (excluding None values).\n",
        "      \"anomalies\": A list of data points identified as anomalies.\n",
        "  \"\"\"\n",
        "  cleaned = [x for x in data if x is not None]\n",
        "  if not cleaned:\n",
        "      return {\"average\": None, \"anomalies\": []} # Handle case with no valid data\n",
        "  avg = sum(cleaned)/len(cleaned)\n",
        "  anomalies = [x for x in cleaned if abs(x - avg) > 10]\n",
        "  return {\"average\": avg, \"anomalies\": anomalies}\n",
        "\n",
        "# Example usage:\n",
        "# sensor_readings = [22.5, 23.1, None, 22.8, 35.0, 21.9, 22.7, -5.0]\n",
        "# result = process_sensor_data(sensor_readings)\n",
        "# print(result)"
      ],
      "execution_count": 4,
      "outputs": []
    },
    {
      "cell_type": "code",
      "source": [
        "Task Description #4 (Real-Time Project Documentation)\n",
        "Scenario: You are part of a project team that develops a Chatbot\n",
        "Application. The team needs documentation for maintainability.\n",
        "• Write a README.md file for the chatbot project (include project\n",
        "description, installation steps, usage, and example).\n",
        "• Add inline comments in the chatbot’s main Python script (focus\n",
        "on explaining logic, not trivial code).\n",
        "• Use an AI-assisted tool (or simulate it) to generate a usage guide\n",
        "in plain English from your code comments.\n",
        "• Reflect: How does automated documentation help in real-time\n",
        "projects compared to manual documentation?"
      ],
      "metadata": {
        "id": "Dljgmr3leOcd"
      },
      "execution_count": null,
      "outputs": []
    },
    {
      "cell_type": "markdown",
      "metadata": {
        "id": "cd2ac960"
      },
      "source": [
        "## README.md Content Example"
      ]
    },
    {
      "cell_type": "code",
      "metadata": {
        "colab": {
          "base_uri": "https://localhost:8080/",
          "height": 106
        },
        "id": "3fd142fb",
        "outputId": "2cd19cfb-9630-43fe-8734-8c191b71fae2"
      },
      "source": [
        "   python chatbot.py"
      ],
      "execution_count": 5,
      "outputs": [
        {
          "output_type": "error",
          "ename": "SyntaxError",
          "evalue": "invalid syntax (ipython-input-1300181292.py, line 1)",
          "traceback": [
            "\u001b[0;36m  File \u001b[0;32m\"/tmp/ipython-input-1300181292.py\"\u001b[0;36m, line \u001b[0;32m1\u001b[0m\n\u001b[0;31m    python chatbot.py\u001b[0m\n\u001b[0m           ^\u001b[0m\n\u001b[0;31mSyntaxError\u001b[0m\u001b[0;31m:\u001b[0m invalid syntax\n"
          ]
        }
      ]
    },
    {
      "cell_type": "code",
      "metadata": {
        "colab": {
          "base_uri": "https://localhost:8080/"
        },
        "id": "5b9dfc0a",
        "outputId": "505bd180-18aa-4d04-f1ca-6cd343a449e8"
      },
      "source": [
        "# chatbot.py - Main script for the simple chatbot\n",
        "\n",
        "def get_response(user_input):\n",
        "  \"\"\"\n",
        "  Determines the chatbot's response based on user input.\n",
        "\n",
        "  Args:\n",
        "    user_input: The string input from the user.\n",
        "\n",
        "  Returns:\n",
        "    A string representing the chatbot's response.\n",
        "  \"\"\"\n",
        "  # Convert user input to lowercase for case-insensitive matching\n",
        "  user_input = user_input.lower()\n",
        "\n",
        "  # Check for specific keywords and return appropriate responses\n",
        "  if \"hello\" in user_input or \"hi\" in user_input:\n",
        "    # Respond to greetings\n",
        "    return \"Hi there!\"\n",
        "  elif \"how are you\" in user_input:\n",
        "    # Respond to inquiries about well-being\n",
        "    return \"I'm a chatbot, I don't have feelings, but I'm ready to help!\"\n",
        "  elif \"what is your name\" in user_input:\n",
        "    # Respond to questions about identity\n",
        "    return \"I don't have a name.\"\n",
        "  elif \"bye\" in user_input or \"goodbye\" in user_input or \"quit\" in user_input:\n",
        "    # Respond to farewells and exit command\n",
        "    return \"Goodbye!\"\n",
        "  else:\n",
        "    # Default response for unrecognized input\n",
        "    return \"I'm sorry, I don't understand.\"\n",
        "\n",
        "# Main loop to run the chatbot\n",
        "def run_chatbot():\n",
        "  \"\"\"\n",
        "  Starts and runs the main chatbot interaction loop.\n",
        "  \"\"\"\n",
        "  print(\"Simple Chatbot: Hello! Type 'quit' to exit.\")\n",
        "\n",
        "  # Loop indefinitely until the user types 'quit'\n",
        "  while True:\n",
        "    # Get input from the user\n",
        "    user_input = input(\"You: \")\n",
        "\n",
        "    # Check if the user wants to quit\n",
        "    if user_input.lower() == 'quit':\n",
        "      break\n",
        "\n",
        "    # Get the chatbot's response\n",
        "    chatbot_response = get_response(user_input)\n",
        "\n",
        "    # Print the chatbot's response\n",
        "    print(f\"Chatbot: {chatbot_response}\")\n",
        "\n",
        "# Start the chatbot when the script is executed\n",
        "if __name__ == \"__main__\":\n",
        "  run_chatbot()"
      ],
      "execution_count": 6,
      "outputs": [
        {
          "name": "stdout",
          "output_type": "stream",
          "text": [
            "Simple Chatbot: Hello! Type 'quit' to exit.\n",
            "You: quit\n"
          ]
        }
      ]
    },
    {
      "cell_type": "markdown",
      "metadata": {
        "id": "0a0b6e42"
      },
      "source": [
        "## Explanation and Reflection\n",
        "\n",
        "The code above provides a simple example of a chatbot script with inline comments explaining the logic within the `get_response` function. A more complex chatbot would have more intricate logic and potentially separate modules, each requiring detailed comments and docstrings.\n",
        "\n",
        "Regarding the reflection on automated vs. manual documentation in real-time projects:\n",
        "\n",
        "**Automated Documentation:**\n",
        "\n",
        "*   **Pros:**\n",
        "    *   **Consistency:** Ensures documentation follows a consistent format and style (based on the tool's configuration).\n",
        "    *   **Up-to-dateness:** Easily generated from the latest code, reducing the risk of outdated documentation.\n",
        "    *   **Efficiency:** Saves significant time and effort compared to manually writing and updating documentation.\n",
        "    *   **Discoverability:** Can automatically generate indices, cross-references, and search capabilities.\n",
        "    *   **Integration:** Can be integrated into CI/CD pipelines to ensure documentation is always generated with the latest code.\n",
        "*   **Cons:**\n",
        "    *   **Dependency on Code Comments/Docstrings:** Quality of documentation heavily relies on the quality and completeness of comments and docstrings in the code.\n",
        "    *   **Limited Scope:** Primarily focuses on API documentation (functions, classes, methods); may not cover high-level design decisions or architecture unless specifically included in docstrings or separate files processed by the tool.\n",
        "    *   **Setup Overhead:** Initial setup and configuration of the documentation tool can require some effort.\n",
        "\n",
        "**Manual Documentation:**\n",
        "\n",
        "*   **Pros:**\n",
        "    *   **Flexibility:** Allows for more narrative explanations, architectural overviews, and design discussions that may not fit well into code comments.\n",
        "    *   **Tailored Content:** Can be specifically written for different audiences (developers, users, managers).\n",
        "    *   **Covers Non-Code Aspects:** Can document project setup, infrastructure, and other aspects not directly in the codebase.\n",
        "*   **Cons:**\n",
        "    *   **Time-Consuming:** Requires significant manual effort to write and maintain.\n",
        "    *   **Risk of Becoming Outdated:** Manual updates can be easily overlooked, leading to documentation that doesn't reflect the current code.\n",
        "    *   **Inconsistency:** Can vary in style and quality depending on who is writing it.\n",
        "\n",
        "**In Real-Time Projects:**\n",
        "\n",
        "Automated documentation is highly beneficial in real-time projects due to its ability to stay relatively up-to-date with code changes and its efficiency. This is crucial in fast-paced development environments where code is frequently updated. Automated tools can quickly generate API documentation, which is essential for developers working with the codebase.\n",
        "\n",
        "However, automated documentation doesn't completely replace the need for some level of manual documentation. High-level design documents, architectural overviews, and user guides often require a more narrative and tailored approach best suited for manual writing.\n",
        "\n",
        "**In summary, in real-time projects, a combination of automated and manual documentation is often the most effective approach.** Automated tools handle the detailed API documentation directly from the code, while manual documentation focuses on the broader context, design decisions, and user-facing guides. This ensures that documentation is both comprehensive and maintainable."
      ]
    }
  ]
}